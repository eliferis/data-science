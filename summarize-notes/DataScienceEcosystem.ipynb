{
 "cells": [
  {
   "cell_type": "markdown",
   "id": "1db44e37-5683-44b2-adcb-40ac989bd43d",
   "metadata": {},
   "source": [
    "# Data Science Tools and Ecosystem \n"
   ]
  },
  {
   "cell_type": "markdown",
   "id": "a107d181-f252-4bee-8a80-db5dcac9a798",
   "metadata": {},
   "source": [
    "In this notebook, Data Science Tools and Ecosystem are summarized."
   ]
  },
  {
   "cell_type": "markdown",
   "id": "2df21d79-6369-4659-9af1-040615afeeff",
   "metadata": {},
   "source": [
    "Some of the commonly used __languages__ used by Data Scientists include:\n",
    "1. Python\n",
    "2. R\n",
    "3. SQL"
   ]
  },
  {
   "cell_type": "markdown",
   "id": "ce8ea81a-0107-4c68-9be8-6056f868a97a",
   "metadata": {},
   "source": [
    "Some of the commonly used __libraries__ used by Data Scientists include: \n",
    "1. Pandas\n",
    "2. NumPy\n",
    "3. Matplotlib\n",
    "4. Seaborn\n",
    "5. Scikit-learn"
   ]
  },
  {
   "cell_type": "markdown",
   "id": "836a0b00-a7e1-493e-b094-dfee9cf59d8a",
   "metadata": {},
   "source": [
    "Some of the __open source tools__ used in Data Science\n",
    "\n",
    "| Data Science Tools |\n",
    "|:------------------:|\n",
    "| Jupyter            |\n",
    "| RStudio            |\n",
    "|  MySQL             |\n",
    "|  Git               |\n"
   ]
  },
  {
   "cell_type": "markdown",
   "id": "587f979f-d784-4d82-956b-a3eba87e8aee",
   "metadata": {},
   "source": [
    "### Below are a few examples of evaluating arithmetic expressions in Python"
   ]
  },
  {
   "cell_type": "code",
   "execution_count": 1,
   "id": "a005c2a4-64cc-457b-b041-8e1b127b8fb4",
   "metadata": {},
   "outputs": [
    {
     "data": {
      "text/plain": [
       "17"
      ]
     },
     "execution_count": 1,
     "metadata": {},
     "output_type": "execute_result"
    }
   ],
   "source": [
    "#This is a simple arithmetic expression to multiply then add integers\n",
    "(3*4)+5"
   ]
  },
  {
   "cell_type": "code",
   "execution_count": 2,
   "id": "874a5a72-91c4-48b6-9431-ea1a726d1acb",
   "metadata": {},
   "outputs": [
    {
     "data": {
      "text/plain": [
       "3.3333333333333335"
      ]
     },
     "execution_count": 2,
     "metadata": {},
     "output_type": "execute_result"
    }
   ],
   "source": [
    "#This will convert 200 minutes to hours by dividing by 60\n",
    "(200/60)"
   ]
  },
  {
   "cell_type": "markdown",
   "id": "5a27b045-e73a-4921-8dae-82e73bf718f8",
   "metadata": {},
   "source": [
    "# __Objectives__\n",
    "+ Commonly used languages in Data Science\n",
    "+ Commonly used libraries in Data Science\n",
    "+ Some open source tools in Data Science\n",
    "  "
   ]
  },
  {
   "cell_type": "markdown",
   "id": "cf3ab843-905c-4ce0-8ecd-6d61adae2fdd",
   "metadata": {},
   "source": [
    "## Author\n",
    "Elif Eris"
   ]
  }
 ],
 "metadata": {
  "kernelspec": {
   "display_name": "Python 3 (ipykernel)",
   "language": "python",
   "name": "python3"
  },
  "language_info": {
   "codemirror_mode": {
    "name": "ipython",
    "version": 3
   },
   "file_extension": ".py",
   "mimetype": "text/x-python",
   "name": "python",
   "nbconvert_exporter": "python",
   "pygments_lexer": "ipython3",
   "version": "3.12.4"
  }
 },
 "nbformat": 4,
 "nbformat_minor": 5
}
